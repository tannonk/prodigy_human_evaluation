{
 "cells": [
  {
   "cell_type": "code",
   "execution_count": 134,
   "id": "artificial-morgan",
   "metadata": {},
   "outputs": [],
   "source": [
    "#!pip install trueskill\n",
    "from trueskill import Rating, rate, quality_1vs1, rate_1vs1, quality\n",
    "from collections import defaultdict, Counter\n",
    "from itertools import groupby\n",
    "from pprint import pprint\n",
    "import random\n",
    "from numpy.random import choice"
   ]
  },
  {
   "cell_type": "code",
   "execution_count": 135,
   "id": "still-correlation",
   "metadata": {},
   "outputs": [
    {
     "name": "stdout",
     "output_type": "stream",
     "text": [
      "a: trueskill.Rating(mu=29.396, sigma=7.171) b: trueskill.Rating(mu=20.604, sigma=7.171)\n",
      "a: trueskill.Rating(mu=26.643, sigma=6.040) b: trueskill.Rating(mu=23.357, sigma=6.040)\n",
      "a: trueskill.Rating(mu=27.085, sigma=5.261) b: trueskill.Rating(mu=22.915, sigma=5.261)\n"
     ]
    }
   ],
   "source": [
    "# modified example of one-on-one from https://trueskill.org/\n",
    "\n",
    "# assign Alice and Bob's ratings\n",
    "a = Rating(25)  \n",
    "b = Rating(25)\n",
    "\n",
    "a, b = rate_1vs1(a, b, drawn=False)\n",
    "print('a:', a, 'b:', b)\n",
    "a, b = rate_1vs1(b, a, drawn=False)\n",
    "print('a:', a, 'b:', b)\n",
    "a, b = rate_1vs1(b, a, drawn=False)\n",
    "print('a:', a, 'b:', b)\n",
    "\n",
    "# print(quality_1vs1(a, b))\n",
    "# print('{:.1%} chance to draw'.format(quality_1vs1(a, b)))\n",
    "# game_results = Counter()\n",
    "# for i in range(100):\n",
    "#     # play n games and decide on a the outcome given the probabilities\n",
    "#     game_result = choice(['a_wins', 'b_wins', 'draw'], p=[0.8, 0.01, 0.19])\n",
    "#     game_results[game_result] += 1\n",
    "#     if game_result == 'a_wins':\n",
    "#         a, b = rate_1vs1(a, b, drawn=False)  # update the ratings after the match (a beats b)\n",
    "#     elif game_result == 'b_wins':\n",
    "#         b, a = rate_1vs1(b, a, drawn=False)  # update the ratings after the match (b beats a)\n",
    "#     else:\n",
    "#         a, b = rate_1vs1(a, b, drawn=True)  # update the ratings after the match (draw)\n",
    "\n",
    "# print(pretty_print(dict(game_results)))\n",
    "# print('{:.1%} chance to draw'.format(quality_1vs1(a, b)))\n",
    "# print('Player a', a)\n",
    "# print('Player b', b)"
   ]
  },
  {
   "cell_type": "code",
   "execution_count": 136,
   "id": "sustainable-demographic",
   "metadata": {},
   "outputs": [
    {
     "name": "stdout",
     "output_type": "stream",
     "text": [
      "trueskill.Rating(mu=26.281, sigma=4.630)\n",
      "trueskill.Rating(mu=23.719, sigma=4.630)\n"
     ]
    }
   ],
   "source": [
    "new_r1, new_r2 = rate_1vs1(b, a)\n",
    "print(new_r1)\n",
    "print(new_r2)"
   ]
  },
  {
   "cell_type": "code",
   "execution_count": 137,
   "id": "adapted-milton",
   "metadata": {},
   "outputs": [
    {
     "name": "stdout",
     "output_type": "stream",
     "text": [
      "[(trueskill.Rating(mu=25.000, sigma=8.333),), (trueskill.Rating(mu=25.000, sigma=8.333),), (trueskill.Rating(mu=25.000, sigma=8.333),)]\n",
      "ranks [2, 1, 3]\n",
      "[(trueskill.Rating(mu=25.000, sigma=6.208),), (trueskill.Rating(mu=31.675, sigma=6.656),), (trueskill.Rating(mu=18.325, sigma=6.656),)]\n",
      "[(trueskill.Rating(mu=25.000, sigma=6.208),), (trueskill.Rating(mu=18.325, sigma=6.656),)]\n",
      "ranks [1, 1]\n",
      "[(trueskill.Rating(mu=22.815, sigma=5.092),), (trueskill.Rating(mu=20.836, sigma=5.257),)]\n",
      "[(trueskill.Rating(mu=31.675, sigma=6.656),), (trueskill.Rating(mu=25.000, sigma=8.333),), (trueskill.Rating(mu=22.815, sigma=5.092),), (trueskill.Rating(mu=25.000, sigma=8.333),), (trueskill.Rating(mu=20.836, sigma=5.257),)]\n",
      "ranks [1, 2, 3, 4, 5]\n",
      "[(trueskill.Rating(mu=36.119, sigma=5.434),), (trueskill.Rating(mu=29.226, sigma=5.342),), (trueskill.Rating(mu=23.967, sigma=4.088),), (trueskill.Rating(mu=21.013, sigma=5.150),), (trueskill.Rating(mu=16.740, sigma=4.438),)]\n",
      "{'a': trueskill.Rating(mu=23.967, sigma=4.088),\n",
      " 'b': trueskill.Rating(mu=36.119, sigma=5.434),\n",
      " 'c': trueskill.Rating(mu=29.226, sigma=5.342),\n",
      " 'e': trueskill.Rating(mu=16.740, sigma=4.438),\n",
      " 't': trueskill.Rating(mu=21.013, sigma=5.150)}\n"
     ]
    }
   ],
   "source": [
    "# example of free-for-all from https://stackoverflow.com/questions/24723975/python-trueskill-using-dictionaries\n",
    "\n",
    "results = [(1, 'a', 2),\n",
    "           (1, 'b', 1),\n",
    "           (1, 'e', 3),\n",
    "           (2, 'a', 1),\n",
    "           (2, 'e', 1),\n",
    "           (3, 'b', 1),\n",
    "           (3, 'c', 2),\n",
    "           (3, 'a', 3),\n",
    "           (3, 't', 4),\n",
    "           (3, 'e', 5)]\n",
    "ratings = defaultdict(Rating)\n",
    "\n",
    "for game_id, result in groupby(results, lambda x: x[0]):\n",
    "#     print(game_id)\n",
    "    result = list(result)\n",
    "#     print(result)\n",
    "    rating_groups = [(ratings[name],) for game_id, name, rank in result]\n",
    "    print(rating_groups)\n",
    "    ranks = [rank for game_id, name, rank in result]\n",
    "    print('ranks', ranks)\n",
    "    transformed_groups = rate(rating_groups, ranks=ranks)\n",
    "    print(transformed_groups)\n",
    "    for x, (game_id, name, rank) in enumerate(result):\n",
    "        ratings[name], = transformed_groups[x]\n",
    "\n",
    "pprint(dict(ratings))"
   ]
  },
  {
   "cell_type": "code",
   "execution_count": 138,
   "id": "fancy-theory",
   "metadata": {},
   "outputs": [
    {
     "name": "stdout",
     "output_type": "stream",
     "text": [
      "Pre-match a : trueskill.Rating(mu=25.000, sigma=8.333) b : trueskill.Rating(mu=25.000, sigma=8.333) [1, 0]\n",
      "Post-match a : trueskill.Rating(mu=20.604, sigma=7.171) b : trueskill.Rating(mu=29.396, sigma=7.171)\n",
      "\n",
      "Pre-match a : trueskill.Rating(mu=20.604, sigma=7.171) c : trueskill.Rating(mu=25.000, sigma=8.333) [0, 1]\n",
      "Post-match a : trueskill.Rating(mu=25.046, sigma=6.265) c : trueskill.Rating(mu=19.003, sigma=6.873)\n",
      "\n",
      "Pre-match a : trueskill.Rating(mu=25.046, sigma=6.265) b : trueskill.Rating(mu=29.396, sigma=7.171) [0, 1]\n",
      "Post-match a : trueskill.Rating(mu=28.930, sigma=5.510) b : trueskill.Rating(mu=24.307, sigma=6.014)\n",
      "\n",
      "Pre-match b : trueskill.Rating(mu=24.307, sigma=6.014) c : trueskill.Rating(mu=19.003, sigma=6.873) [0, 1]\n",
      "Post-match b : trueskill.Rating(mu=26.141, sigma=5.499) c : trueskill.Rating(mu=16.607, sigma=6.093)\n",
      "\n",
      "Pre-match b : trueskill.Rating(mu=26.141, sigma=5.499) a : trueskill.Rating(mu=28.930, sigma=5.510) [1, 0]\n",
      "Post-match b : trueskill.Rating(mu=24.068, sigma=4.960) a : trueskill.Rating(mu=31.011, sigma=4.968)\n",
      "\n",
      "Pre-match c : trueskill.Rating(mu=16.607, sigma=6.093) b : trueskill.Rating(mu=24.068, sigma=4.960) [0, 1]\n",
      "Post-match c : trueskill.Rating(mu=21.880, sigma=5.097) b : trueskill.Rating(mu=20.573, sigma=4.440)\n",
      "\n",
      "Pre-match c : trueskill.Rating(mu=21.880, sigma=5.097) a : trueskill.Rating(mu=31.011, sigma=4.968) [1, 0]\n",
      "Post-match c : trueskill.Rating(mu=20.972, sigma=4.779) a : trueskill.Rating(mu=31.874, sigma=4.674)\n",
      "\n",
      "Pre-match c : trueskill.Rating(mu=20.972, sigma=4.779) a : trueskill.Rating(mu=31.874, sigma=4.674) [0, 0]\n",
      "Post-match c : trueskill.Rating(mu=24.101, sigma=4.036) a : trueskill.Rating(mu=28.881, sigma=3.982)\n",
      "\n",
      "Pre-match c : trueskill.Rating(mu=24.101, sigma=4.036) b : trueskill.Rating(mu=20.573, sigma=4.440) [0, 0]\n",
      "Post-match c : trueskill.Rating(mu=23.290, sigma=3.543) b : trueskill.Rating(mu=21.554, sigma=3.773)\n",
      "\n",
      "{'a': trueskill.Rating(mu=28.881, sigma=3.982),\n",
      " 'b': trueskill.Rating(mu=21.554, sigma=3.773),\n",
      " 'c': trueskill.Rating(mu=23.290, sigma=3.543)}\n"
     ]
    }
   ],
   "source": [
    "from collections import defaultdict\n",
    "from itertools import groupby\n",
    "from pprint import pprint\n",
    "from trueskill import Rating, rate\n",
    "\n",
    "results = [('a', 'b', [1, 0]),\n",
    "           ('a', 'c', [0, 1]),\n",
    "           ('a', 'b', [0, 1]),\n",
    "           ('b', 'c', [0, 1]),\n",
    "           ('b', 'a', [1, 0]),\n",
    "           ('c', 'b', [0, 1]),\n",
    "           ('c', 'a', [1, 0]),\n",
    "           ('c', 'a', [0, 0]),\n",
    "           ('c', 'b', [0, 0]),\n",
    "          ]\n",
    "\n",
    "models = {\n",
    "    'a': Rating(),\n",
    "    'b': Rating(),\n",
    "    'c': Rating(),\n",
    "}\n",
    "\n",
    "for game_id, (model_1, model_2, ranking) in enumerate(results):\n",
    "    print('Pre-match', model_1, ':', models[model_1], model_2, ':', models[model_2], ranking)\n",
    "    (models[model_1],), (models[model_2],) = rate([(models[model_1],), (models[model_2],)], ranks=ranking)\n",
    "    print('Post-match', model_1, ':', models[model_1], model_2, ':', models[model_2])\n",
    "    print()\n",
    "\n",
    "pprint(models)"
   ]
  },
  {
   "cell_type": "code",
   "execution_count": 139,
   "id": "administrative-salad",
   "metadata": {},
   "outputs": [
    {
     "name": "stdout",
     "output_type": "stream",
     "text": [
      "16.93579844244241\n",
      "10.235233050269352\n",
      "12.66154839507252\n"
     ]
    }
   ],
   "source": [
    "dir(models['a'])\n",
    "print(models['a'].exposure)\n",
    "print(models['b'].exposure)\n",
    "print(models['c'].exposure)\n",
    "# print(leaderboard)"
   ]
  },
  {
   "cell_type": "code",
   "execution_count": null,
   "id": "mineral-madison",
   "metadata": {},
   "outputs": [],
   "source": []
  }
 ],
 "metadata": {
  "kernelspec": {
   "display_name": "Python 3",
   "language": "python",
   "name": "python3"
  },
  "language_info": {
   "codemirror_mode": {
    "name": "ipython",
    "version": 3
   },
   "file_extension": ".py",
   "mimetype": "text/x-python",
   "name": "python",
   "nbconvert_exporter": "python",
   "pygments_lexer": "ipython3",
   "version": "3.8.5"
  }
 },
 "nbformat": 4,
 "nbformat_minor": 5
}
