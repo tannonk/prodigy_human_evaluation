{
 "cells": [
  {
   "cell_type": "code",
   "execution_count": 123,
   "id": "certain-jefferson",
   "metadata": {},
   "outputs": [],
   "source": [
    "import json\n",
    "import sys\n",
    "from collections import Counter\n",
    "import pandas as pd\n",
    "pd.set_option('display.max_columns', None)\n",
    "pd.set_option('display.max_colwidth', None)\n",
    "import numpy as np\n",
    "from functools import reduce\n",
    "from pprint import pprint \n",
    "from trueskill import Rating, rate, quality_1vs1, rate_1vs1, quality\n"
   ]
  },
  {
   "cell_type": "code",
   "execution_count": 124,
   "id": "mathematical-burton",
   "metadata": {},
   "outputs": [],
   "source": [
    "def iter_lines(file):\n",
    "    with open(file, 'r', encoding='utf8') as f:\n",
    "        for line in f:\n",
    "            yield json.loads(line.strip())\n",
    "\n",
    "def load_jsonl_as_df(jsonl_file, annotater=None):\n",
    "    df = pd.DataFrame([line for line in iter_lines(jsonl_file)])\n",
    "    df['annotator'] = annotater\n",
    "    df.set_index(['id', 'annotator'], inplace=True)\n",
    "    df.drop(columns=['src_text', 'ref_text', 'hyp_a_text', 'hyp_b_text', 'src_text_title', 'src_text_body', '_input_hash', '_task_hash', '_session_id', '_view_id'], inplace=True)\n",
    "    return df\n"
   ]
  },
  {
   "cell_type": "code",
   "execution_count": 125,
   "id": "micro-welding",
   "metadata": {},
   "outputs": [
    {
     "name": "stdout",
     "output_type": "stream",
     "text": [
      "<class 'list'>\n"
     ]
    }
   ],
   "source": [
    "annotations = {\n",
    "    'fa': 'data/hospo_respo_data/annotated_v1/pref_test_a.jsonl',\n",
    "    'as': 'data/hospo_respo_data/annotated_v1/pref_test_b.jsonl',\n",
    "    'tk': 'data/hospo_respo_data/annotated_v1/pref_test_c.jsonl',\n",
    "}\n",
    "\n",
    "dfs = [load_jsonl_as_df(v, k) for k, v in annotations.items()]\n",
    "dfs[0]\n",
    "print(type(list(df['hyp_a_id'].unique())))"
   ]
  },
  {
   "cell_type": "code",
   "execution_count": 126,
   "id": "supported-therapy",
   "metadata": {},
   "outputs": [
    {
     "name": "stdout",
     "output_type": "stream",
     "text": [
      "{'/srv/scratch6/kew/bart/hospo_respo/en/500k/baseline/inference/bs5.txt': trueskill.Rating(mu=25.000, sigma=8.333), '/srv/scratch6/kew/bart/hospo_respo/en/500k/filt_freq_distro/inference/bs5.txt': trueskill.Rating(mu=25.000, sigma=8.333), '/srv/scratch6/kew/bart/hospo_respo/en/500k/filt_gen_sent/inference/bs5.txt': trueskill.Rating(mu=25.000, sigma=8.333), '/srv/scratch6/kew/bart/hospo_respo/en/500k/filt_tgt_ppl/inference/bs5.txt': trueskill.Rating(mu=25.000, sigma=8.333)}\n"
     ]
    }
   ],
   "source": [
    "models = np.unique([pd.unique(df[['hyp_a_id', 'hyp_b_id']].values.ravel('K')) for df in dfs])\n",
    "models = {model_id: Rating() for model_id in models}\n",
    "print(models)"
   ]
  },
  {
   "cell_type": "code",
   "execution_count": 136,
   "id": "violent-tongue",
   "metadata": {},
   "outputs": [
    {
     "name": "stdout",
     "output_type": "stream",
     "text": [
      "{'/srv/scratch6/kew/bart/hospo_respo/en/500k/baseline/inference/bs5.txt': trueskill.Rating(mu=20.329, sigma=1.220),\n",
      " '/srv/scratch6/kew/bart/hospo_respo/en/500k/filt_freq_distro/inference/bs5.txt': trueskill.Rating(mu=19.187, sigma=1.445),\n",
      " '/srv/scratch6/kew/bart/hospo_respo/en/500k/filt_gen_sent/inference/bs5.txt': trueskill.Rating(mu=23.538, sigma=1.151),\n",
      " '/srv/scratch6/kew/bart/hospo_respo/en/500k/filt_tgt_ppl/inference/bs5.txt': trueskill.Rating(mu=38.746, sigma=3.456)}\n",
      "{'/srv/scratch6/kew/bart/hospo_respo/en/500k/baseline/inference/bs5.txt': trueskill.Rating(mu=20.188, sigma=1.212),\n",
      " '/srv/scratch6/kew/bart/hospo_respo/en/500k/filt_freq_distro/inference/bs5.txt': trueskill.Rating(mu=19.029, sigma=1.430),\n",
      " '/srv/scratch6/kew/bart/hospo_respo/en/500k/filt_gen_sent/inference/bs5.txt': trueskill.Rating(mu=23.749, sigma=1.138),\n",
      " '/srv/scratch6/kew/bart/hospo_respo/en/500k/filt_tgt_ppl/inference/bs5.txt': trueskill.Rating(mu=38.866, sigma=3.390)}\n",
      "{'/srv/scratch6/kew/bart/hospo_respo/en/500k/baseline/inference/bs5.txt': trueskill.Rating(mu=19.831, sigma=1.189),\n",
      " '/srv/scratch6/kew/bart/hospo_respo/en/500k/filt_freq_distro/inference/bs5.txt': trueskill.Rating(mu=19.436, sigma=1.357),\n",
      " '/srv/scratch6/kew/bart/hospo_respo/en/500k/filt_gen_sent/inference/bs5.txt': trueskill.Rating(mu=23.791, sigma=1.109),\n",
      " '/srv/scratch6/kew/bart/hospo_respo/en/500k/filt_tgt_ppl/inference/bs5.txt': trueskill.Rating(mu=38.943, sigma=3.350)}\n",
      "/srv/scratch6/kew/bart/hospo_respo/en/500k/baseline/inference/bs5.txt 16.897370266298665\n",
      "/srv/scratch6/kew/bart/hospo_respo/en/500k/filt_freq_distro/inference/bs5.txt 15.182387598774302\n",
      "/srv/scratch6/kew/bart/hospo_respo/en/500k/filt_gen_sent/inference/bs5.txt 20.296607408188343\n",
      "/srv/scratch6/kew/bart/hospo_respo/en/500k/filt_tgt_ppl/inference/bs5.txt 28.943241962177993\n"
     ]
    }
   ],
   "source": [
    "\n",
    "def update_model_rarings(df, models, draw_threshold=9):\n",
    "    for i, row in df.iterrows():\n",
    "        a = row.hyp_a_id\n",
    "        b = row.hyp_b_id\n",
    "        score = int(row.score)\n",
    "        \n",
    "        if row.answer != 'reject':\n",
    "        \n",
    "            if score < -draw_threshold: # a wins\n",
    "                (models[a],), (models[b],) = rate([(models[a],), (models[b],)], ranks=[0, 1])\n",
    "            \n",
    "            elif score > draw_threshold: # b wins\n",
    "                (models[a],), (models[b],) = rate([(models[a],), (models[b],)], ranks=[1, 0])\n",
    "            else:\n",
    "                (models[a],), (models[b],) = rate([(models[a],), (models[b],)], ranks=[0, 0])\n",
    "                    \n",
    "    return models\n",
    "\n",
    "for df in dfs:\n",
    "    pprint(models)\n",
    "    models = update_model_rarings(df, models)"
   ]
  },
  {
   "cell_type": "code",
   "execution_count": 137,
   "id": "prepared-maine",
   "metadata": {},
   "outputs": [
    {
     "name": "stdout",
     "output_type": "stream",
     "text": [
      "/srv/scratch6/kew/bart/hospo_respo/en/500k/baseline/inference/bs5.txt 16.897370266298665\n",
      "/srv/scratch6/kew/bart/hospo_respo/en/500k/filt_freq_distro/inference/bs5.txt 15.182387598774302\n",
      "/srv/scratch6/kew/bart/hospo_respo/en/500k/filt_gen_sent/inference/bs5.txt 20.296607408188343\n",
      "/srv/scratch6/kew/bart/hospo_respo/en/500k/filt_tgt_ppl/inference/bs5.txt 28.943241962177993\n"
     ]
    }
   ],
   "source": [
    "for model, trueskill in models.items():\n",
    "    print(model, trueskill.exposure)"
   ]
  },
  {
   "cell_type": "code",
   "execution_count": 138,
   "id": "structural-birth",
   "metadata": {},
   "outputs": [],
   "source": [
    "# # for i in range(len(dfs)-1):\n",
    "# # df = pd.merge(dfs[0], dfs[1])\n",
    "# # df = pd.concat(dfs, axis=1)\n",
    "\n",
    "# df = reduce(lambda left, right: pd.merge(left, right, how='outer', on=['id', 'annotator', 'hyp_a_id', 'hyp_b_id', 'score', 'answer'],), dfs).sort_index()\n",
    "\n",
    "\n",
    "# # df = pd.concat(dfs, join='outer', axis=1, copy=False)\n",
    "# df"
   ]
  },
  {
   "cell_type": "code",
   "execution_count": null,
   "id": "finite-transformation",
   "metadata": {},
   "outputs": [],
   "source": []
  },
  {
   "cell_type": "code",
   "execution_count": null,
   "id": "timely-camcorder",
   "metadata": {},
   "outputs": [],
   "source": []
  }
 ],
 "metadata": {
  "kernelspec": {
   "display_name": "Python 3",
   "language": "python",
   "name": "python3"
  },
  "language_info": {
   "codemirror_mode": {
    "name": "ipython",
    "version": 3
   },
   "file_extension": ".py",
   "mimetype": "text/x-python",
   "name": "python",
   "nbconvert_exporter": "python",
   "pygments_lexer": "ipython3",
   "version": "3.8.5"
  }
 },
 "nbformat": 4,
 "nbformat_minor": 5
}
